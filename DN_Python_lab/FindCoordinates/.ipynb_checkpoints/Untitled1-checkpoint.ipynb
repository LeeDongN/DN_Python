{
 "cells": [
  {
   "cell_type": "code",
   "execution_count": 2,
   "metadata": {},
   "outputs": [],
   "source": [
    "import cv2 as cv\n",
    "import os\n",
    "import time\n",
    "import glob"
   ]
  },
  {
   "cell_type": "code",
   "execution_count": 3,
   "metadata": {},
   "outputs": [],
   "source": [
    "#원하는 경로 지정 변수\n",
    "path_image = 'C:\\program1\\image'\n",
    "\n",
    "coordinates_list = []\n",
    "\n",
    "#저장하고 싶은 경로\n",
    "SAVE_PATH = r'C:\\Users\\내꺼\\Git_WorkSpace\\DN_Python_Rab\\Project\\FindCoordinates\\textfile\\\\'\n",
    "\n",
    "#.tif, .png, .bmp\n",
    "tif = glob.glob(path_image + '/*.tif')\n",
    "png = glob.glob(path_image + '/*.png')\n",
    "bmp = glob.glob(path_image + '/*.bmp')"
   ]
  },
  {
   "cell_type": "code",
   "execution_count": 6,
   "metadata": {},
   "outputs": [
    {
     "data": {
      "text/plain": [
       "['C:\\\\program1\\\\image\\\\297.bmp',\n",
       " 'C:\\\\program1\\\\image\\\\3.bmp',\n",
       " 'C:\\\\program1\\\\image\\\\4.bmp']"
      ]
     },
     "execution_count": 6,
     "metadata": {},
     "output_type": "execute_result"
    }
   ],
   "source": [
    "bmp"
   ]
  },
  {
   "cell_type": "code",
   "execution_count": 7,
   "metadata": {},
   "outputs": [],
   "source": [
    "   "
   ]
  },
  {
   "cell_type": "code",
   "execution_count": 8,
   "metadata": {},
   "outputs": [
    {
     "ename": "SyntaxError",
     "evalue": "invalid syntax (<ipython-input-8-0e6570d79c29>, line 4)",
     "output_type": "error",
     "traceback": [
      "\u001b[1;36m  File \u001b[1;32m\"<ipython-input-8-0e6570d79c29>\"\u001b[1;36m, line \u001b[1;32m4\u001b[0m\n\u001b[1;33m    file = open(SAVE_PATH + 'DATA_2 + '.txt', 'w')\u001b[0m\n\u001b[1;37m                                              ^\u001b[0m\n\u001b[1;31mSyntaxError\u001b[0m\u001b[1;31m:\u001b[0m invalid syntax\n"
     ]
    }
   ],
   "source": [
    "def generate_text(DATA_KIND, SAVE_PATH, each_coordinates_list,  sep):\n",
    "    \n",
    "    DATA_basename = os.path.basename(DATA_KIND)\n",
    "    file = open(SAVE_PATH + 'DATA_2 + '.txt', 'w')\n",
    "    \n",
    "    for a in range(len(each_coordinates_list)): \n",
    "        \n",
    "        vstr = ''\n",
    "        vstr = vstr + str(each_coordinates_list[a])+ sep         \n",
    "        vstr = vstr.rstrip(sep)\n",
    "           \n",
    "        file.write(vstr)\n",
    "        file.write(\"\\n\")\n",
    "        file.write(\"\\n\")\n",
    "        a += 1\n",
    "        \n",
    "    file.close()\n",
    "        \n",
    "    \n",
    "def find_coordinates(DATA_KIND, SAVE_PATH):\n",
    "    #이미지에서 좌표를 찾는다\n",
    "    for a in DATA_KIND:\n",
    "        \n",
    "        img_binary = cv.imread(a, 0)\n",
    "        contours, hierarchy = cv.findContours(img_binary, cv.RETR_LIST, cv.CHAIN_APPROX_SIMPLE)\n",
    "        basename = os.path.basename(a)\n",
    "        \n",
    "        for cnt in contours:\n",
    "            x, y, w, h = cv.boundingRect(cnt)\n",
    "        #[(x0, y0), (x1, y1)] 형태로 저장\n",
    "\n",
    "        line = []\n",
    "        \n",
    "        line.append(basename)\n",
    "        line.append(str(x))\n",
    "        line.append(str(y + h))\n",
    "        line.append(str(x + w))\n",
    "        line.append(str(y))\n",
    "                \n",
    "        coordinates_list.append(line)   \n",
    "      \n",
    "    \n",
    "    generate_text(DATA_KIND, SAVE_PATH, coordinates_list,  '\\n')\n",
    "        \n",
    "        \n",
    "startTime = time.time()\n",
    "find_coordinates(tif, SAVE_PATH)\n",
    "find_coordinates(png, SAVE_PATH)\n",
    "find_coordinates(bmp, SAVE_PATH)\n",
    "endTime = time.time()\n",
    "\n",
    "print(round(endTime - startTime, 2))"
   ]
  }
 ],
 "metadata": {
  "kernelspec": {
   "display_name": "Python 3",
   "language": "python",
   "name": "python3"
  }
 },
 "nbformat": 4,
 "nbformat_minor": 2
}
