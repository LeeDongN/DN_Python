{
 "cells": [
  {
   "cell_type": "code",
   "execution_count": null,
   "metadata": {},
   "outputs": [],
   "source": [
    "import cv2 as cv\n",
    "import os\n",
    "import time"
   ]
  },
  {
   "cell_type": "code",
   "execution_count": null,
   "metadata": {},
   "outputs": [],
   "source": [
    "path_image = 'C:\\program1\\image'\n",
    "image_file_list = os.listdir(path_image)\n",
    "list_len = len(image_file_list)\n",
    "coordinates_list = []\n",
    "\n",
    "\n",
    "\n",
    "def generate_text(each_coordinates_list, file_name_list, sep):\n",
    "    TEST_PATH = r'C:\\Users\\내꺼\\Git_WorkSpace\\DN_Python_Rab\\Project\\FindCoordinates\\textfile\\\\'\n",
    "    a = 0\n",
    "    \n",
    "    for i in file_name_list:\n",
    "        \n",
    "        file = open(TEST_PATH + i + '.txt', 'w')\n",
    "        \n",
    "        vstr = ''\n",
    "    \n",
    "        vstr = vstr + str(each_coordinates_list[a])+ sep\n",
    "                \n",
    "        vstr = vstr.rstrip(sep)\n",
    "            \n",
    "        file.writelines(vstr)\n",
    "        a += 1\n",
    "        \n",
    "        file.close()\n",
    "        \n",
    "    \n",
    "    \n",
    "\n",
    "def find_coordinates(image):\n",
    "    #이미지에서 좌표를 찾는다\n",
    "    for a in image_file_list:\n",
    "        image_path = os.path.join('C:\\program1\\image',a)\n",
    "        img_binary = cv.imread(image_path, 0)\n",
    "        contours, hierarchy = cv.findContours(img_binary, cv.RETR_LIST, cv.CHAIN_APPROX_SIMPLE)\n",
    "        \n",
    "        for cnt in contours:\n",
    "            x, y, w, h = cv.boundingRect(cnt)\n",
    "        #[(x0, y0), (x1, y1)] 형태로 저장\n",
    "        x0 = x\n",
    "        x1 = x + w\n",
    "        y0 = y + h\n",
    "        y1 = y\n",
    "        \n",
    "        line = []\n",
    "        for j in range(1):\n",
    "            line.append(x0)\n",
    "            line.append(y0)\n",
    "            line.append(x1)\n",
    "            line.append(y1)\n",
    "                \n",
    "        coordinates_list.append(line)   \n",
    "      \n",
    "    \n",
    "    generate_text(coordinates_list, image_file_list, ' ')\n",
    "        \n",
    "        \n",
    "startTime = time.time()\n",
    "find_coordinates(image_file_list)\n",
    "endTime = time.time()\n",
    "\n",
    "print(round(endTime - startTime, 2))"
   ]
  }
 ],
 "metadata": {
  "kernelspec": {
   "display_name": "Python 3",
   "language": "python",
   "name": "python3"
  },
  "language_info": {
   "codemirror_mode": {
    "name": "ipython",
    "version": 3
   },
   "file_extension": ".py",
   "mimetype": "text/x-python",
   "name": "python",
   "nbconvert_exporter": "python",
   "pygments_lexer": "ipython3",
   "version": "3.7.4"
  }
 },
 "nbformat": 4,
 "nbformat_minor": 2
}
